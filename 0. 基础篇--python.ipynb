{
 "cells": [
  {
   "cell_type": "markdown",
   "metadata": {},
   "source": [
    "## 前言\n",
    "\n",
    "在开始讲述机器学习之前，必须要知道有一些知识还有环境是必备的，在我们在篇教程中，最基础的设施就是Python了。之前也看到一些观点说Python不过就是个脚本语言，居然能火到现在的程度简直不可思议。我在没有过一遍Python基础之前也有类似的感觉，不过自从用尝试用Python写过一些小脚本之后就开始为Python所折服了。Python最为令人心醉的特性就是对开发者很友好，开发效率够高，入门也比较容易，这在下文的介绍与例子中也会有所体现。\n",
    "\n",
    "## 环境准备\n",
    "\n",
    "首先要说明，三大操作系统Windows, Linux, OSX中，Windows虽然我每天都在用，但我认为这不是一个对开发者特别友好的平台，对于服务器平台以及开发平台来说Linux是比较好的选择，至于没有考虑OSX的原因是我没用过（因为穷）。\n",
    "\n",
    "### 版本说明\n",
    "\n",
    "Linux有众多发行版，如果你搞得定的话选择哪个发行版问题都不大，不过对于机器学习来说，现在用的比较多的还是Ubuntu，考虑到GCC版本等依赖的差异，想要省心的话，那就选择 **Ubuntu 16.04**。\n",
    "\n",
    "Python现在有两个大版本，Python 2.7与Python3，比较令人头疼的在于这两个版本有比较大的差异，并不能完全兼容，考虑到Python 3是在Python 2的基础上吸取了一些经验做出的重构，因此在整篇教程中我使用的都是**Python 3.5**这个版本。\n",
    "\n",
    "## Python 之道\n",
    "\n",
    "### 空格与缩进\n",
    "\n",
    "许多编程语言使用`{}`把代码块分割开，在Python中用代码缩进来分割代码块，一般4个空格来代表一个缩进:"
   ]
  },
  {
   "cell_type": "code",
   "execution_count": null,
   "metadata": {},
   "outputs": [],
   "source": [
    "for i in [1, 2, 3]:\n",
    "    print (i)\n",
    "    for j in [1, 2, 3]:\n",
    "        print (j)\n",
    "        print (i + j)\n",
    "    print (i)\n",
    "print(\"done looping\")"
   ]
  },
  {
   "cell_type": "markdown",
   "metadata": {},
   "source": [
    "这种编码风格好处在于可读性较强，不过与此同时带来的问题是我们需要时时刻刻注意代码缩进。不过在括号中空格是缩进效果被忽略了，所以如果要定义一些数据结构或者做计算的话，不必担心缩进带来的问题:"
   ]
  },
  {
   "cell_type": "code",
   "execution_count": 2,
   "metadata": {},
   "outputs": [
    {
     "name": "stdout",
     "output_type": "stream",
     "text": [
      "210\n"
     ]
    }
   ],
   "source": [
    "long_winded_computation = (1 + 2 + 3 + 4 + 5 + 6 + 7 + 8 + 9 + 10 + 11 + 12 +\n",
    "                           13 + 14 + 15 + 16 + 17 + 18 + 19 + 20)\n",
    "print (long_winded_computation)"
   ]
  },
  {
   "cell_type": "markdown",
   "metadata": {},
   "source": [
    "也可以利用这个特性增加代码可读性："
   ]
  },
  {
   "cell_type": "code",
   "execution_count": null,
   "metadata": {},
   "outputs": [],
   "source": [
    "list_of_lists = [[1, 2, 3], [4, 5, 6], [7, 8, 9]]\n",
    "easier_to_read_list_of_lists = [ [1, 2, 3],\n",
    "                                                 [4, 5, 6],\n",
    "                                                 [7, 8, 9] ]"
   ]
  },
  {
   "cell_type": "markdown",
   "metadata": {},
   "source": [
    "### Modules\n",
    "\n",
    "在Python中许多功能不是默认加载的。如果要使用这些没有默认加载的功能，首先需要使用`import`来引入。"
   ]
  },
  {
   "cell_type": "code",
   "execution_count": 1,
   "metadata": {},
   "outputs": [],
   "source": [
    "import re\n",
    "my_regex = re.compile(\"[0-9]+\", re.I)"
   ]
  },
  {
   "cell_type": "markdown",
   "metadata": {},
   "source": [
    "上面的代码中`re`这个模块的功能是支持正则表达式，如果像上面代码的方式来加载模块想调用这个模块中的方法就需要加`re`这个前缀。\n",
    "当然如果在你的代码中`re`是有其它用处的，那么也可以给它设置别名："
   ]
  },
  {
   "cell_type": "code",
   "execution_count": 2,
   "metadata": {},
   "outputs": [],
   "source": [
    "import re as regex\n",
    "my_regex = re.compile(\"[0-9]+\", regex.I)"
   ]
  },
  {
   "cell_type": "markdown",
   "metadata": {},
   "source": [
    "这种方式对于那些名字很长的模块就很有效了，毕竟每次都要写那么长的名字容易出错。比如用来画图展示数据的`matplotlib`可以为它设置一个简单一些的别名:"
   ]
  },
  {
   "cell_type": "code",
   "execution_count": 3,
   "metadata": {},
   "outputs": [
    {
     "name": "stderr",
     "output_type": "stream",
     "text": [
      "/home/paul1st/.conda/envs/notebook/lib/python3.5/site-packages/matplotlib/font_manager.py:281: UserWarning: Matplotlib is building the font cache using fc-list. This may take a moment.\n",
      "  'Matplotlib is building the font cache using fc-list. '\n"
     ]
    }
   ],
   "source": [
    "import matplotlib.pyplot as plt"
   ]
  },
  {
   "cell_type": "markdown",
   "metadata": {},
   "source": [
    "如果对于相关的模块已经很熟悉了，也可以精确的引用:"
   ]
  },
  {
   "cell_type": "code",
   "execution_count": 4,
   "metadata": {},
   "outputs": [],
   "source": [
    "from collections import defaultdict, Counter\n",
    "\n",
    "lookup = defaultdict(int)\n",
    "my_counter = Counter()"
   ]
  },
  {
   "cell_type": "markdown",
   "metadata": {},
   "source": [
    "### Lists\n",
    "\n",
    "在Python中可能最常用的数据结构就是`list`了。所谓`list`就是一个有序的数据集合。"
   ]
  }
 ],
 "metadata": {
  "kernelspec": {
   "display_name": "Python 3",
   "language": "python",
   "name": "python3"
  },
  "language_info": {
   "codemirror_mode": {
    "name": "ipython",
    "version": 3
   },
   "file_extension": ".py",
   "mimetype": "text/x-python",
   "name": "python",
   "nbconvert_exporter": "python",
   "pygments_lexer": "ipython3",
   "version": "3.5.4"
  }
 },
 "nbformat": 4,
 "nbformat_minor": 2
}
