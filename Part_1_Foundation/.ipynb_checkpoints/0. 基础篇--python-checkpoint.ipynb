{
 "cells": [
  {
   "cell_type": "markdown",
   "metadata": {},
   "source": [
    "## 前言\n",
    "\n",
    "在开始讲述机器学习之前，必须要知道有一些知识还有环境是必备的，在我们在篇教程中，最基础的设施就是Python了。之前也看到一些观点说Python不过就是个脚本语言，居然能火到现在的程度简直不可思议。我在没有过一遍Python基础之前也有类似的感觉，不过自从用尝试用Python写过一些小脚本之后就开始为Python所折服了。Python最为令人心醉的特性就是对开发者很友好，开发效率够高，入门也比较容易，这在下文的介绍与例子中也会有所体现。\n",
    "\n",
    "\n",
    "## Python的魔力\n",
    "\n",
    "我觉得有必要在介绍一些Python基本特性之前先举几个例子来真正感受一下Python的魔力在哪里。\n",
    "\n"
   ]
  },
  {
   "cell_type": "code",
   "execution_count": null,
   "metadata": {
    "collapsed": true
   },
   "outputs": [],
   "source": [
    "users = [\n",
    "    { \"id\": 0, \"name\": \"Hero\" },\n",
    "    { \"id\": 1, \"name\": \"Dunn\" },\n",
    "    { \"id\": 2, \"name\": \"Sue\" },\n",
    "    { \"id\": 3, \"name\": \"Chi\" },\n",
    "    { \"id\": 4, \"name\": \"Thor\" },\n",
    "    { \"id\": 5, \"name\": \"Clive\" },\n",
    "    { \"id\": 6, \"name\": \"Hicks\" },\n",
    "    { \"id\": 7, \"name\": \"Devin\" },\n",
    "    { \"id\": 8, \"name\": \"Kate\" },\n",
    "    { \"id\": 9, \"name\": \"Klein\" }\n",
    "]"
   ]
  },
  {
   "cell_type": "code",
   "execution_count": null,
   "metadata": {
    "collapsed": true
   },
   "outputs": [],
   "source": [
    "friendships = [(0, 1), (0, 2), (1, 2), (1, 3), (2, 3), (3, 4),\n",
    "               (4, 5), (5, 6), (5, 7), (6, 8), (7, 8), (8, 9)]"
   ]
  },
  {
   "cell_type": "markdown",
   "metadata": {},
   "source": [
    "## Python 之道\n",
    "\n",
    "### 空格与缩进\n",
    "\n",
    "许多编程语言使用`{}`形成代码块（比如java），在Python中用代码缩进来分割代码块，一般4个空格来代表一个缩进:"
   ]
  },
  {
   "cell_type": "code",
   "execution_count": null,
   "metadata": {
    "collapsed": true
   },
   "outputs": [],
   "source": [
    "for i in [1, 2, 3]:\n",
    "    print (i)\n",
    "    for j in [1, 2, 3]:\n",
    "        print (j)\n",
    "        print (i + j)\n",
    "    print (i)\n",
    "print(\"done looping\")"
   ]
  },
  {
   "cell_type": "markdown",
   "metadata": {},
   "source": [
    "这种编码风格好处在于可读性较强，不过与此同时带来的问题是我们需要时时刻刻注意代码缩进。不过在括号中空格是缩进效果被忽略了，所以如果要定义一些数据结构或者做计算的话，不必担心缩进带来的问题:"
   ]
  },
  {
   "cell_type": "code",
   "execution_count": 2,
   "metadata": {},
   "outputs": [
    {
     "name": "stdout",
     "output_type": "stream",
     "text": [
      "210\n"
     ]
    }
   ],
   "source": [
    "long_winded_computation = (1 + 2 + 3 + 4 + 5 + 6 + 7 + 8 + 9 + 10 + 11 + 12 +\n",
    "                           13 + 14 + 15 + 16 + 17 + 18 + 19 + 20)\n",
    "print (long_winded_computation)"
   ]
  },
  {
   "cell_type": "markdown",
   "metadata": {},
   "source": [
    "也可以利用这个特性增加代码可读性："
   ]
  },
  {
   "cell_type": "code",
   "execution_count": null,
   "metadata": {
    "collapsed": true
   },
   "outputs": [],
   "source": [
    "list_of_lists = [[1, 2, 3], [4, 5, 6], [7, 8, 9]]\n",
    "easier_to_read_list_of_lists = [ [1, 2, 3],\n",
    "                                                 [4, 5, 6],\n",
    "                                                 [7, 8, 9] ]"
   ]
  },
  {
   "cell_type": "markdown",
   "metadata": {},
   "source": [
    "### Modules\n",
    "\n",
    "在Python中许多功能不是默认加载的。如果要使用这些没有默认加载的功能，首先需要使用`import`来引入。"
   ]
  },
  {
   "cell_type": "code",
   "execution_count": 1,
   "metadata": {
    "collapsed": true
   },
   "outputs": [],
   "source": [
    "import re\n",
    "my_regex = re.compile(\"[0-9]+\", re.I)"
   ]
  },
  {
   "cell_type": "markdown",
   "metadata": {},
   "source": [
    "上面的代码中`re`这个模块的功能是支持正则表达式，如果像上面代码的方式来加载模块想调用这个模块中的方法就需要加`re`这个前缀。\n",
    "当然如果在你的代码中`re`是有其它用处的，那么也可以给它设置别名："
   ]
  },
  {
   "cell_type": "code",
   "execution_count": 2,
   "metadata": {
    "collapsed": true
   },
   "outputs": [],
   "source": [
    "import re as regex\n",
    "my_regex = re.compile(\"[0-9]+\", regex.I)"
   ]
  },
  {
   "cell_type": "markdown",
   "metadata": {},
   "source": [
    "这种方式对于那些名字很长的模块就很有效了，毕竟每次都要写那么长的名字容易出错。比如用来画图展示数据的`matplotlib`可以为它设置一个简单一些的别名:"
   ]
  },
  {
   "cell_type": "code",
   "execution_count": 3,
   "metadata": {},
   "outputs": [
    {
     "name": "stderr",
     "output_type": "stream",
     "text": [
      "/home/paul1st/.conda/envs/notebook/lib/python3.5/site-packages/matplotlib/font_manager.py:281: UserWarning: Matplotlib is building the font cache using fc-list. This may take a moment.\n",
      "  'Matplotlib is building the font cache using fc-list. '\n"
     ]
    }
   ],
   "source": [
    "import matplotlib.pyplot as plt"
   ]
  },
  {
   "cell_type": "markdown",
   "metadata": {},
   "source": [
    "如果对于相关的模块已经很熟悉了，也可以精确的引用:"
   ]
  },
  {
   "cell_type": "code",
   "execution_count": 4,
   "metadata": {
    "collapsed": true
   },
   "outputs": [],
   "source": [
    "from collections import defaultdict, Counter\n",
    "\n",
    "lookup = defaultdict(int)\n",
    "my_counter = Counter()"
   ]
  },
  {
   "cell_type": "markdown",
   "metadata": {},
   "source": [
    "### Lists\n",
    "\n",
    "在Python中可能最常用的数据结构就是`list`了。所谓`list`就是一个有序的数据集合。下面是几个`list`的例子："
   ]
  },
  {
   "cell_type": "code",
   "execution_count": 4,
   "metadata": {},
   "outputs": [
    {
     "name": "stdout",
     "output_type": "stream",
     "text": [
      "integer_list: [1, 2, 3]\n",
      "heterogeneous_list: ['string', 0.1, True]\n",
      "list_of_lists: [[1, 2, 3], ['string', 0.1, True], []]\n",
      "list_length: 3\n",
      "list_sum: 6\n"
     ]
    }
   ],
   "source": [
    "integer_list = [1, 2, 3]\n",
    "heterogeneous_list = [\"string\", 0.1, True]\n",
    "list_of_lists = [ integer_list, heterogeneous_list, [] ]\n",
    "\n",
    "list_length = len(integer_list)\n",
    "list_sum = sum(integer_list)\n",
    "\n",
    "print(\"integer_list: %s\" % integer_list)\n",
    "print(\"heterogeneous_list: %s\" % heterogeneous_list)\n",
    "print(\"list_of_lists: %s\" % list_of_lists)\n",
    "\n",
    "print(\"list_length: %s\" % list_length)\n",
    "print(\"list_sum: %s\" % list_sum)"
   ]
  },
  {
   "cell_type": "markdown",
   "metadata": {},
   "source": [
    "可以使用`in`操作符来检查元素是否包含在list中"
   ]
  },
  {
   "cell_type": "code",
   "execution_count": 2,
   "metadata": {},
   "outputs": [
    {
     "name": "stdout",
     "output_type": "stream",
     "text": [
      "True\n",
      "False\n"
     ]
    }
   ],
   "source": [
    "print(1 in [1, 2, 3])\n",
    "\n",
    "print(0 in [1, 2, 3])"
   ]
  },
  {
   "cell_type": "markdown",
   "metadata": {},
   "source": [
    "不过这个操作很耗时，如果这个list很大的话还是不要这么用，当然如果不关注是否耗时，那就无所谓了。\n",
    "\n",
    "扩展list也是一个比较常用的功能"
   ]
  },
  {
   "cell_type": "code",
   "execution_count": null,
   "metadata": {
    "collapsed": true
   },
   "outputs": [],
   "source": [
    "x = [1, 2, 3]\n",
    "x.extend([4, 5, 6])\n",
    "\n",
    "print(x)\n",
    "\n",
    "x = [1, 2, 3]\n",
    "y = x + [4, 5, 6]\n",
    "\n",
    "print(y)"
   ]
  },
  {
   "cell_type": "markdown",
   "metadata": {},
   "source": [
    "## 进阶\n",
    "\n",
    "### 排序\n",
    "\n",
    "Python的`list`有一个`sort`的方法可以帮助我们对数组进行排序，如果不想改变数组，也可以调用`sorted`方法，这个方法会返回一个新的数组。\n"
   ]
  },
  {
   "cell_type": "code",
   "execution_count": 3,
   "metadata": {},
   "outputs": [
    {
     "name": "stdout",
     "output_type": "stream",
     "text": [
      "y is: [1, 2, 3, 4], and x is unchanged: [4, 1, 2, 3]\n",
      "now x is: [1, 2, 3, 4]\n"
     ]
    }
   ],
   "source": [
    "x = [4,1,2,3]\n",
    "y = sorted(x)\n",
    "\n",
    "print(\"now y is: %s, and x is unchanged: %s\" % (y, x))\n",
    "\n",
    "x.sort()\n",
    "\n",
    "print(\"now x is: %s\" % x)"
   ]
  },
  {
   "cell_type": "markdown",
   "metadata": {},
   "source": [
    "`sort`和`sorted`默认是将数组升序排列的，如果想要倒序排列的话可以传入`reverse=True`这个参数，更进阶一点的话，我们可以定义自己的函数，根据函数返回的结果来排序："
   ]
  },
  {
   "cell_type": "code",
   "execution_count": 5,
   "metadata": {},
   "outputs": [
    {
     "name": "stdout",
     "output_type": "stream",
     "text": [
      "absolute value: [-4, 3, -2, 1]\n"
     ]
    }
   ],
   "source": [
    "# 根据数据的绝对值从大到小排序\n",
    "x = sorted([-4,1,-2,3], key=abs, reverse=True) \n",
    "\n",
    "print(\"absolute value: %s\" % x)"
   ]
  },
  {
   "cell_type": "markdown",
   "metadata": {},
   "source": [
    "### list进阶\n",
    "\n",
    "我们通常需要对list做的操作包括从一个list复制到另一个list，或者选择list中的某几个特定的元素之类的，用Python的方式会非常方便:\n"
   ]
  },
  {
   "cell_type": "code",
   "execution_count": 6,
   "metadata": {},
   "outputs": [
    {
     "name": "stdout",
     "output_type": "stream",
     "text": [
      "even_numbers: [0, 2, 4]\n",
      "squares: [0, 1, 4, 9, 16]\n",
      "even_squares: [0, 4, 16]\n"
     ]
    }
   ],
   "source": [
    "even_numbers = [x for x in range(5) if x % 2 == 0]\n",
    "print(\"even_numbers: %s\" % even_numbers)\n",
    "\n",
    "squares = [x * x for x in range(5)]\n",
    "\n",
    "print(\"squares: %s\" % squares)\n",
    "\n",
    "even_squares = [x * x for x in even_numbers]\n",
    "\n",
    "print(\"even_squares: %s\" % even_squares)"
   ]
  },
  {
   "cell_type": "markdown",
   "metadata": {},
   "source": [
    "### Tuples进阶\n",
    "\n",
    "要说List与Tuples的关系就非常近了，基本上List能做的操作Tuples都能做，除了一点，Tuples不能修改。"
   ]
  },
  {
   "cell_type": "code",
   "execution_count": 2,
   "metadata": {},
   "outputs": [
    {
     "name": "stdout",
     "output_type": "stream",
     "text": [
      "now my_list modify: [1, 3]\n",
      "cannot modify a tuple\n"
     ]
    }
   ],
   "source": [
    "my_list = [1, 2]\n",
    "my_tuple = (1, 2)\n",
    "\n",
    "my_list[1] = 3\n",
    "print (\"now my_list modify: %s\" % my_list)\n",
    "\n",
    "try:\n",
    "    my_tuple[1] = 3\n",
    "except TypeError:\n",
    "    print (\"cannot modify a tuple\")"
   ]
  },
  {
   "cell_type": "markdown",
   "metadata": {},
   "source": [
    "对于函数来说，Tuples有一个作用就是可以很方便的返回多个值："
   ]
  },
  {
   "cell_type": "code",
   "execution_count": 4,
   "metadata": {},
   "outputs": [
    {
     "name": "stdout",
     "output_type": "stream",
     "text": [
      "sp : (5, 6), s: 15, p: 50\n"
     ]
    }
   ],
   "source": [
    "def sum_and_product(x, y):\n",
    "    return (x + y), (x * y)\n",
    "\n",
    "sp = sum_and_product(2, 3)\n",
    "s, p = sum_and_product(5, 10)\n",
    "\n",
    "print(\"sp : %s, s: %s, p: %s\" % (sp, s, p))"
   ]
  },
  {
   "cell_type": "markdown",
   "metadata": {},
   "source": [
    "### Dictionaries\n",
    "\n",
    "dictionary，java里是Map，本质上一样，都是键-值对："
   ]
  },
  {
   "cell_type": "code",
   "execution_count": 5,
   "metadata": {},
   "outputs": [
    {
     "name": "stdout",
     "output_type": "stream",
     "text": [
      "joels_grade: 80\n"
     ]
    }
   ],
   "source": [
    "empty_dict = {}\n",
    "grades =  { \"Joel\" : 80, \"Tim\" : 95 }\n",
    "\n",
    "joels_grade = grades[\"Joel\"]\n",
    "\n",
    "print (\"joels_grade: %s\" % joels_grade)"
   ]
  },
  {
   "cell_type": "markdown",
   "metadata": {},
   "source": []
  },
  {
   "cell_type": "markdown",
   "metadata": {},
   "source": [
    "### 生成器与迭代器\n",
    "\n",
    "对于`list`来说有一个令人头疼的问题就是数据及容易变得非常庞大。像`range(1000000)`就创建了一百万个元素。如果我们只是想处理一次，或者只是需要处理其中几个元素，那么这么庞大的队列很有可能会造成内存溢出的问题。"
   ]
  },
  {
   "cell_type": "code",
   "execution_count": null,
   "metadata": {
    "collapsed": true
   },
   "outputs": [],
   "source": [
    "def lazy_range(n):\n",
    "    i = 0\n",
    "    while i < n:\n",
    "        yield i\n",
    "        i += 1\n",
    "        \n",
    "for i in lazy_range(10):\n",
    "    print (i)"
   ]
  },
  {
   "cell_type": "markdown",
   "metadata": {},
   "source": [
    "### enumerate\n",
    "\n",
    "有时候，我们想要迭代一个list，不过我们既想要list中的元素，也想要知道元素的所在的位置，那么是时候请出`enumerate`了："
   ]
  },
  {
   "cell_type": "code",
   "execution_count": 6,
   "metadata": {},
   "outputs": [
    {
     "name": "stdout",
     "output_type": "stream",
     "text": [
      "0 a\n",
      "1 b\n"
     ]
    }
   ],
   "source": [
    "documents = ['a', 'b']\n",
    "for i, document in enumerate(documents):\n",
    "    print (i, document)"
   ]
  },
  {
   "cell_type": "code",
   "execution_count": null,
   "metadata": {},
   "outputs": [],
   "source": []
  }
 ],
 "metadata": {
  "kernelspec": {
   "display_name": "Python 3",
   "language": "python",
   "name": "python3"
  },
  "language_info": {
   "codemirror_mode": {
    "name": "ipython",
    "version": 3
   },
   "file_extension": ".py",
   "mimetype": "text/x-python",
   "name": "python",
   "nbconvert_exporter": "python",
   "pygments_lexer": "ipython3",
   "version": "3.5.4"
  }
 },
 "nbformat": 4,
 "nbformat_minor": 2
}
