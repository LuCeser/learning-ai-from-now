{
 "cells": [
  {
   "cell_type": "markdown",
   "metadata": {},
   "source": [
    "# 为什么要用线性代数\n",
    "\n",
    "对于机器学习来说，线性代数可能是所有需要了解的数据知识中最为重要的一个。正是因为采用了线性代数，计算机才能快又好的运行神经网络，也正是采用了线性代数这种计算方式，我们才会一路推高显卡的价格，早就“显卡危机”。\n",
    "\n",
    "在大学里我们基本都学过线性代数这一课，不知道有多少人能从大学的课堂上学到线性代数的本质，并且能够了解线性代数这一门课可以解决一些什么实际的问题。至少对于我来说，线性代数在当时只是一门需要我考试通过的课程，我需要做到的就是会解题，通过考试就可以了，而其具体用处老师没有说过，我也没有去查过。\n",
    "\n",
    "对于我们大多数人来说，线性代数一直以来都是遥远的，在我们的生活中并不会存在太多交集的学课，但是现在我们要学习机器学习是怎么一回事，学习计算机怎么训练模型，这其中就真真切切的用上了线性代数的知识，在我们开始前需要建议先阅读一下[神经网络是怎样运行的](../Part_2_Theory/Begining From Nerual Network.ipynb)，这样我们就能够一步步的了解到为什么在机器学习中会用上线性代数。\n",
    "\n"
   ]
  },
  {
   "attachments": {},
   "cell_type": "markdown",
   "metadata": {},
   "source": [
    "# 几个基本概念\n",
    "\n",
    "在线性代数中，我们使用线性方程来表示数据，并将它们写成矩阵或向量的形式。因此我们基本都是在与矩阵还有向量打交道，当然在Python中我们其实有一个应用很广泛的库：**numpy**帮助我们，但是在这里我们还是主要介绍一些线性代数中的基本概念以及常用计算。\n",
    "\n",
    "\n",
    "## 标量(Scalar)\n",
    "\n",
    "所谓标量就是一个简单的数，比如：$24$\n",
    "\n",
    "我们一般用一个小写的变量名称表示，比如：$x$\n",
    "\n",
    "## 向量(Vector)\n",
    "\n",
    "向量是一个有序数组，能够写成一行或者一列的形式。\n",
    "\n",
    "$ V = \n",
    " \\left[\n",
    " \\begin{matrix}\n",
    "   1 & 2 & 3 \n",
    "  \\end{matrix}\n",
    "  \\right] \n",
    "$\n",
    "\n",
    "OR\n",
    "\n",
    "$V =\n",
    " \\left[\n",
    " \\begin{matrix}\n",
    "   1  \\\\\n",
    "   4  \\\\\n",
    "   6\n",
    "  \\end{matrix}\n",
    "  \\right] \n",
    "$\n",
    "\n",
    "## 矩阵（Matrix）\n",
    "\n",
    "矩阵是一个有序的二维数组，比如下面这个矩阵就是一个$2 * 3$的矩阵\n",
    "\n",
    "$\n",
    " \\left[\n",
    " \\begin{matrix}\n",
    "   1 & 2 & 3 \\\\\n",
    "   4 & 5 & 6 \n",
    "  \\end{matrix}\n",
    "  \\right] \n",
    "$"
   ]
  }
 ],
 "metadata": {
  "kernelspec": {
   "display_name": "Python 3",
   "language": "python",
   "name": "python3"
  },
  "language_info": {
   "codemirror_mode": {
    "name": "ipython",
    "version": 3
   },
   "file_extension": ".py",
   "mimetype": "text/x-python",
   "name": "python",
   "nbconvert_exporter": "python",
   "pygments_lexer": "ipython3",
   "version": "3.5.4"
  }
 },
 "nbformat": 4,
 "nbformat_minor": 2
}
