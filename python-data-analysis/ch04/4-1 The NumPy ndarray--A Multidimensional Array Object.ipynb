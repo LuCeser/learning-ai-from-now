{
 "cells": [
  {
   "cell_type": "markdown",
   "metadata": {},
   "source": [
    "`NumPy`，是`Numerical Python`的简称。\n",
    "`NumPy`本身没有提供模型以及很好的方法，因此理解`NumPy`中的数组概念很重要。\n",
    "`NumPy`中一个重要的功能就是N维数组对象，又称之为`ndarray`。"
   ]
  },
  {
   "cell_type": "code",
   "execution_count": 1,
   "metadata": {},
   "outputs": [],
   "source": [
    "import numpy as np\n",
    "\n",
    "data = np.random.randn(2, 3)\n"
   ]
  },
  {
   "cell_type": "code",
   "execution_count": null,
   "metadata": {},
   "outputs": [],
   "source": []
  }
 ],
 "metadata": {
  "kernelspec": {
   "display_name": "Python 3",
   "language": "python",
   "name": "python3"
  },
  "language_info": {
   "codemirror_mode": {
    "name": "ipython",
    "version": 3
   },
   "file_extension": ".py",
   "mimetype": "text/x-python",
   "name": "python",
   "nbconvert_exporter": "python",
   "pygments_lexer": "ipython3",
   "version": "3.6.7"
  }
 },
 "nbformat": 4,
 "nbformat_minor": 2
}
