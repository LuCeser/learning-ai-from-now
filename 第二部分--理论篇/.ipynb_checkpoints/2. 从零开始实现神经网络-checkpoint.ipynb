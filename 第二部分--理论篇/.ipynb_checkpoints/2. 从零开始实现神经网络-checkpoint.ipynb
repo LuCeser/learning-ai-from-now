{
 "cells": [
  {
   "cell_type": "markdown",
   "metadata": {},
   "source": [
    "## 大自然的计算机--神经网络\n",
    "\n",
    "人类，或者动物的大脑一直让科学家很困惑，因为即使是像鸽子的大脑也要比我们的计算机复杂的多，而我们的计算机，拥有数不清的计算单元，巨量的存储空间以及不知疲倦的能力。无论怎么想，电子计算机的处理能力都应该比生物大脑要强得多。\n",
    "\n",
    "我们可以仔细想一下这两者之间的差异。传统的电子计算机处理数据冰冷、精确、快速、有效，结果只有两种，正确或不正确。而生物大脑处理速度要慢得多，而且充满不确定。是否正是这些我们看起来的缺陷，才是生物大脑的优势所在呢？\n",
    "\n",
    "首先让我们看一下生物大脑的基本处理单元，**神经元**:\n",
    "\n",
    "![neuron](img/neuron.png)\n",
    "图片来源(http://blog.csdn.net/u013007900/article/details/50066315)\n",
    "\n",
    "## 用Python来实现一个神经网络\n",
    "\n",
    "我们在之前已经介绍过了神经网络的基本原理，接下来我们要根据原理一步步用Python实现一个神经网络。\n",
    "\n",
    "在动手之前让我们先把骨架搭起来。\n",
    "\n",
    "### 基本结构\n",
    "\n",
    "我们首先需要新建一个神经网络的类，至少包括3个方法：\n",
    "\n",
    "* init 用来初始化输入层、输出层、隐藏层的节点数\n",
    "* train 在训练数据输入后，根据训练结果定义权重\n",
    "* query 根据输入的数据得到输出层的结果\n",
    "\n",
    "看上去很简单，但这3个方法已经涵盖了对于我们现在而言已经足够了\n"
   ]
  },
  {
   "cell_type": "code",
   "execution_count": null,
   "metadata": {},
   "outputs": [],
   "source": [
    "class neuralNetwork:\n",
    "    \n",
    "    # 初始化神经网络\n",
    "    def __init__():\n",
    "        pass\n",
    "    \n",
    "    # 训练神经网络\n",
    "    def train():\n",
    "        pass\n",
    "    \n",
    "    # 获取结果\n",
    "    def query():\n",
    "        pass"
   ]
  },
  {
   "cell_type": "markdown",
   "metadata": {},
   "source": [
    "### 初始化神经网络\n",
    "\n"
   ]
  },
  {
   "cell_type": "code",
   "execution_count": 2,
   "metadata": {},
   "outputs": [],
   "source": [
    "\n",
    "class neuralNetwork:\n",
    "    \n",
    "    # 初始化神经网络\n",
    "    def __init__(self, inputnodes, hiddennodes, outputnodes, learningrate):\n",
    "        self.inodes = inputnodes\n",
    "        self.hnodes = hiddennodes\n",
    "        self.onodes = outputnodes\n",
    "        \n",
    "        # 学习率\n",
    "        self.lr = learningrate\n",
    "        pass\n",
    "    \n",
    "    # 训练神经网络\n",
    "    def train():\n",
    "        pass\n",
    "    \n",
    "    # 查询神经网络\n",
    "    def query():\n",
    "        pass"
   ]
  },
  {
   "cell_type": "code",
   "execution_count": null,
   "metadata": {},
   "outputs": [],
   "source": []
  }
 ],
 "metadata": {
  "kernelspec": {
   "display_name": "Python 3",
   "language": "python",
   "name": "python3"
  },
  "language_info": {
   "codemirror_mode": {
    "name": "ipython",
    "version": 3
   },
   "file_extension": ".py",
   "mimetype": "text/x-python",
   "name": "python",
   "nbconvert_exporter": "python",
   "pygments_lexer": "ipython3",
   "version": "3.5.4"
  }
 },
 "nbformat": 4,
 "nbformat_minor": 2
}
