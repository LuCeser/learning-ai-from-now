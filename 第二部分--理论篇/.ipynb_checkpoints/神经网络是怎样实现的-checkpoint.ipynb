{
 "cells": [
  {
   "cell_type": "markdown",
   "metadata": {},
   "source": [
    "# 我之甘露，彼之毒药\n",
    "\n",
    "其实说起来，我们的计算机，上至超级计算机，下至计算器，从本质上来说并无特别的不同。其实质做的还是加减法，但是它们做这种算术计算是非常非常非常的快。如果我们现在让所有的收银员都不准使用计算机收银而需要心算的话，我估计全世界的超市、杂货店起码得瘫痪一半。"
   ]
  }
 ],
 "metadata": {
  "kernelspec": {
   "display_name": "Python 3",
   "language": "python",
   "name": "python3"
  },
  "language_info": {
   "codemirror_mode": {
    "name": "ipython",
    "version": 3
   },
   "file_extension": ".py",
   "mimetype": "text/x-python",
   "name": "python",
   "nbconvert_exporter": "python",
   "pygments_lexer": "ipython3",
   "version": "3.5.4"
  }
 },
 "nbformat": 4,
 "nbformat_minor": 2
}
