{
 "cells": [
  {
   "cell_type": "markdown",
   "metadata": {},
   "source": [
    "# 大自然的计算机--神经网络\n",
    "\n",
    "人类，或者动物的大脑一直让科学家很困惑，因为即使是像鸽子的大脑也要比我们的计算机复杂的多，而我们的计算机，拥有数不清的计算单元，巨量的存储空间以及不知疲倦的能力。无论怎么想，电子计算机的处理能力都应该比生物大脑要强得多。\n",
    "\n",
    "我们可以仔细想一下这两者之间的差异。传统的电子计算机处理数据冰冷、精确、快速、有效，结果只有两种，正确或不正确。而生物大脑处理速度要慢得多，而且充满不确定。是否正是这些我们看起来的缺陷，才是生物大脑的优势所在呢？\n",
    "\n",
    "首先让我们看一下生物大脑的基本处理单元，**神经元**:\n",
    "\n",
    "![neuron](img/neuron.png)\n",
    "图片来源(http://blog.csdn.net/u013007900/article/details/50066315)\n",
    "\n",
    "# 用Python来实现一个神经网络\n",
    "\n",
    "我们在之前已经介绍过了神经网络的基本原理，接下来我们要根据原理一步步用Python实现一个神经网络。\n",
    "\n",
    "在动手之前让我们先把骨架搭起来。\n",
    "\n",
    "## 基本结构\n",
    "\n",
    "我们首先需要新建一个神经网络的类，至少包括3个方法：\n",
    "\n",
    "* init 用来初始化输入层、输出层、隐藏层的节点数\n",
    "* train 在训练数据输入后，根据训练结果定义权重\n",
    "* query 根据输入的数据得到输出层的结果\n",
    "\n",
    "看上去很简单，但这3个方法已经涵盖了对于我们现在而言已经足够了\n",
    "\n",
    "```\n",
    "class neuralNetwork:\n",
    "    \n",
    "    # 初始化神经网络\n",
    "    def __init__():\n",
    "        pass\n",
    "    \n",
    "    # 训练神经网络\n",
    "    def train():\n",
    "        pass\n",
    "    \n",
    "    # 获取结果\n",
    "    def query():\n",
    "        pass\n",
    "```\n",
    "\n",
    "## 初始化神经网络\n",
    "\n",
    "让我们开始填充init方法吧。\n",
    "\n",
    "回想一下哪些数据对于神经网络是必备的：输入层，输出层，隐藏层的节点数量。这几个值定义了一个神经网络的形状与大小。我们可以把这几个值给设死了，但是这不是一个好的选择，毕竟用来训练的数据可能千奇百怪，最好是我们的初始化的时候告诉这个神经网络输入层，输出层以及隐藏层的节点数量，这样一来，无论这个神经网络多大，需求怎么改，我们就都可以适应了。\n",
    "\n",
    "除了输入层，输出层，隐藏层的节点数量之外，别忘了还有一个重要的参数：**学习率**。我们看下现在init方法变成什么样了：\n",
    "\n",
    "```\n",
    "    # 初始化神经网络\n",
    "    def __init__(self, inputnodes, hiddennodes, outputnodes, learningrate):\n",
    "        self.inodes = inputnodes\n",
    "        self.hnodes = hiddennodes\n",
    "        self.onodes = outputnodes\n",
    "        \n",
    "        # 学习率\n",
    "        self.lr = learningrate\n",
    "        pass\n",
    "    \n",
    "```\n",
    "\n",
    "我们现在定义了一个神经网络的对象，当然，现在它什么也做不了，还需要我们一点点把它的血肉加上。\n",
    "\n",
    "## 权重 - 神经网络的核心\n",
    "\n",
    "好了，下一步我们要做的就是创建node以及它们之间的连接。而神经网络最最重要的就是节点之间**连接的权重**（link weights）。\n",
    "\n",
    "节点之间的权重如果用矩阵来表示的话会非常简洁，所以在这里我们也会用矩阵来表达权重：\n",
    "\n",
    "* $W_{input\\_hidden}$这个矩阵用来代表输入层到隐藏层的权重\n",
    "* $W_{hidden\\_output}$ 这个矩阵用来代表隐藏层到输出层的权重\n",
    "\n",
    "首先我们要将初始权重设置为随机数，我们可以使用`numpy`提供的函数来生成一个0～1之间的随机数矩阵：\n",
    "```\n",
    "numpy.random.rand(rows, columns)\n",
    "```\n"
   ]
  },
  {
   "cell_type": "code",
   "execution_count": 2,
   "metadata": {
    "collapsed": true
   },
   "outputs": [],
   "source": [
    "import numpy"
   ]
  },
  {
   "cell_type": "code",
   "execution_count": 3,
   "metadata": {},
   "outputs": [
    {
     "data": {
      "text/plain": [
       "array([[0.3013913 , 0.31302616, 0.0936806 ],\n",
       "       [0.73380011, 0.47055353, 0.38996815],\n",
       "       [0.76250803, 0.97772873, 0.5621336 ]])"
      ]
     },
     "execution_count": 3,
     "metadata": {},
     "output_type": "execute_result"
    }
   ],
   "source": [
    "numpy.random.rand(3, 3)"
   ]
  },
  {
   "cell_type": "markdown",
   "metadata": {},
   "source": [
    "当然我们可以定义的更合理一些，因为权重的初始值可以定义的更加消极一些，所以我们让初始权重落在-0.5-0.5之间："
   ]
  },
  {
   "cell_type": "code",
   "execution_count": 4,
   "metadata": {},
   "outputs": [
    {
     "data": {
      "text/plain": [
       "array([[-0.07968374,  0.08194425,  0.00621362],\n",
       "       [-0.41343116, -0.21685479, -0.17178044],\n",
       "       [-0.16789902, -0.30476391,  0.03541061]])"
      ]
     },
     "execution_count": 4,
     "metadata": {},
     "output_type": "execute_result"
    }
   ],
   "source": [
    "numpy.random.rand(3, 3) - 0.5"
   ]
  },
  {
   "cell_type": "markdown",
   "metadata": {},
   "source": [
    "现在我们准备好为权重创建一个初始的矩阵了，这个权重的矩阵可以认为是我们神经网络最核心的东西，整个神经网络的训练实际上就是不断重定义权重矩阵的过程。\n",
    "\n",
    "```\n",
    "self.wih = (numpy.random.rand(self.hnodes, self.inodes) - 0.5)\n",
    "self.who = (numpy.random.rand(self.onodes, self.hnodes) - 0.5)\n",
    "```\n",
    "\n",
    "### 更合理或更复杂的权重初始化\n",
    "\n",
    "\n",
    "### 查询神经网络结果\n",
    "\n",
    "按理来说初始化神经网络之后我们应该先实现`train()`函数，不过且慢，在这之前，让我们先实现`query()`这个函数。对于我们来说，先实现`query()`这个函数能够使得我们在实现`train()`之前更有信心和底气。\n",
    "\n",
    "`query()`这个函数的作用在于接收神经网络的输入，并得到输出。非常简单，不过回想一下神经网络输入的输出的流程：\n",
    "\n",
    "输入信号从输入层开始，经过隐藏层，最后从输出层得到最终的结果。这在个过程中，每一个连接的权重可以用来调整流向隐藏层与输出层的值。"
   ]
  },
  {
   "cell_type": "code",
   "execution_count": 2,
   "metadata": {
    "collapsed": true
   },
   "outputs": [],
   "source": [
    "\n",
    "class neuralNetwork:\n",
    "    \n",
    "    # 初始化神经网络\n",
    "    def __init__(self, inputnodes, hiddennodes, outputnodes, learningrate):\n",
    "        self.inodes = inputnodes\n",
    "        self.hnodes = hiddennodes\n",
    "        self.onodes = outputnodes\n",
    "        \n",
    "        # 学习率\n",
    "        self.lr = learningrate\n",
    "        pass\n",
    "    \n",
    "    # 训练神经网络\n",
    "    def train():\n",
    "        pass\n",
    "    \n",
    "    # 查询神经网络\n",
    "    def query():\n",
    "        pass"
   ]
  },
  {
   "cell_type": "code",
   "execution_count": null,
   "metadata": {
    "collapsed": true
   },
   "outputs": [],
   "source": []
  }
 ],
 "metadata": {
  "kernelspec": {
   "display_name": "Python 3",
   "language": "python",
   "name": "python3"
  },
  "language_info": {
   "codemirror_mode": {
    "name": "ipython",
    "version": 3
   },
   "file_extension": ".py",
   "mimetype": "text/x-python",
   "name": "python",
   "nbconvert_exporter": "python",
   "pygments_lexer": "ipython3",
   "version": "3.5.4"
  }
 },
 "nbformat": 4,
 "nbformat_minor": 2
}
